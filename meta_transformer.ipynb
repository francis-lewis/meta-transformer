{
 "cells": [
  {
   "cell_type": "code",
   "execution_count": null,
   "id": "07bbfd44",
   "metadata": {},
   "outputs": [],
   "source": [
    "import time\n",
    "\n",
    "# import torch.multiprocessing as mp\n",
    "\n",
    "from train import launch"
   ]
  },
  {
   "cell_type": "code",
   "execution_count": null,
   "id": "10fb6e66",
   "metadata": {},
   "outputs": [],
   "source": [
    "num_epochs = 10\n",
    "tik = time.time()\n",
    "launch(num_epochs=num_epochs, num_proc=2)\n",
    "tok = time.time()\n",
    "tok - tik"
   ]
  },
  {
   "cell_type": "code",
   "execution_count": null,
   "id": "6682daf2",
   "metadata": {},
   "outputs": [],
   "source": [
    "dataiter = iter(trainloader)\n",
    "images, labels = dataiter.next()\n",
    "images, labels = images.to(device), labels.to(device)\n",
    "print(images.shape)\n",
    "\n",
    "# for name, module in base_net.named_modules():\n",
    "#     print(f\"{name}: {activations[name].shape}\")\n",
    "def get_input_layers(images):\n",
    "    _ = base_net(images)\n",
    "    layers = [activations[\"conv_layers.0\"],\n",
    "              activations[\"conv_layers.1\"],\n",
    "              activations[\"fc_layer1\"],\n",
    "              activations[\"fc_layer2.1\"],\n",
    "              activations[\"fc_layer2\"]]\n",
    "    num_feats = max([max(layer.shape) for layer in layers])\n",
    "    trans_input = torch.zeros((4, len(layers), num_feats), device=images.device)\n",
    "    for i, layer in enumerate(layers):\n",
    "        trans_input[:, i, :layer.shape[-1]] = layer\n",
    "    \n",
    "    return trans_input\n",
    "\n",
    "trans_input = get_input_layers(images)\n",
    "print(trans_input.shape)"
   ]
  },
  {
   "cell_type": "code",
   "execution_count": null,
   "id": "03a570bb",
   "metadata": {},
   "outputs": [],
   "source": [
    "class MetaTrans(nn.Module):\n",
    "    \n",
    "    def __init__(self, d_model, num_layers):\n",
    "        super().__init__()\n",
    "        self.transformer = nn.Transformer(\n",
    "            d_model = d_model,\n",
    "            num_encoder_layers = num_layers,\n",
    "            num_decoder_layers = num_layers,\n",
    "            activation = \"gelu\",\n",
    "            batch_first = True)\n",
    "        self.decoder = nn.Linear(d_model, 10)\n",
    "        \n",
    "    def forward(self, src):\n",
    "        output = self.transformer(src, src)\n",
    "        output = self.decoder(output)\n",
    "        return output[:, 0, :]"
   ]
  },
  {
   "cell_type": "code",
   "execution_count": null,
   "id": "1cd2e781",
   "metadata": {
    "scrolled": false
   },
   "outputs": [],
   "source": [
    "trans_net = MetaTrans(d_model = trans_input.shape[-1], num_layers = 2)\n",
    "trans_net.to(device)\n",
    "\n",
    "loss_fn = nn.CrossEntropyLoss()\n",
    "optimizer = optim.Adam(trans_net.parameters(), lr=1e-5)\n",
    "\n",
    "for epoch in range(2):\n",
    "    running_loss = 0.0\n",
    "    for i, data in enumerate(trainloader, 0):\n",
    "        images, labels = data\n",
    "        images, labels = images.to(device), labels.to(device)\n",
    "        \n",
    "        optimizer.zero_grad()\n",
    "        \n",
    "        trans_input = get_input_layers(images)\n",
    "        outputs = trans_net(trans_input)\n",
    "        loss = loss_fn(outputs, labels)\n",
    "        \n",
    "        loss.backward()\n",
    "        optimizer.step()\n",
    "        \n",
    "        running_loss += loss.item()\n",
    "        \n",
    "        samples = 2000\n",
    "        if i % samples == samples-1:\n",
    "            print(f'[{epoch + 1}, {i + 1:5d}] loss: {running_loss / samples:.3f}')\n",
    "            running_loss = 0.0"
   ]
  },
  {
   "cell_type": "code",
   "execution_count": null,
   "id": "b9adc636",
   "metadata": {},
   "outputs": [],
   "source": [
    "correct = 0\n",
    "total = 0\n",
    "# since we're not training, we don't need to calculate the gradients for our outputs\n",
    "with torch.no_grad():\n",
    "    for data in testloader:\n",
    "        images, labels = data\n",
    "        images, labels = images.to(device), labels.to(device)\n",
    "        # calculate outputs by running images through the network\n",
    "        trans_input = get_input_layers(images)\n",
    "        outputs = trans_net(trans_input)\n",
    "        # the class with the highest energy is what we choose as prediction\n",
    "        _, predicted = torch.max(outputs.data, 1)\n",
    "        total += labels.size(0)\n",
    "        correct += (predicted == labels).sum().item()"
   ]
  },
  {
   "cell_type": "code",
   "execution_count": null,
   "id": "b6d78934",
   "metadata": {},
   "outputs": [],
   "source": [
    "print(f'Accuracy of the network on the 10000 test images: {100 * correct // total} %')"
   ]
  },
  {
   "cell_type": "code",
   "execution_count": null,
   "id": "38780db1",
   "metadata": {},
   "outputs": [],
   "source": []
  }
 ],
 "metadata": {
  "kernelspec": {
   "display_name": "Python 3 (ipykernel)",
   "language": "python",
   "name": "python3"
  },
  "language_info": {
   "codemirror_mode": {
    "name": "ipython",
    "version": 3
   },
   "file_extension": ".py",
   "mimetype": "text/x-python",
   "name": "python",
   "nbconvert_exporter": "python",
   "pygments_lexer": "ipython3",
   "version": "3.7.13"
  }
 },
 "nbformat": 4,
 "nbformat_minor": 5
}
